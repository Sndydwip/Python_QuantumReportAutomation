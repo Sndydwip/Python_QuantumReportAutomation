{
 "cells": [
  {
   "cell_type": "markdown",
   "metadata": {},
   "source": [
    "## Merubah format laporan Excel menjadi CSV lalu di kirim ke User"
   ]
  },
  {
   "cell_type": "markdown",
   "metadata": {},
   "source": [
    "##  Before"
   ]
  },
  {
   "cell_type": "markdown",
   "metadata": {},
   "source": [
    "<img src=\"sukuks.png\"></img>\n",
    "<img src=\"krs.png\"></img>"
   ]
  },
  {
   "cell_type": "markdown",
   "metadata": {},
   "source": [
    "## After "
   ]
  },
  {
   "cell_type": "markdown",
   "metadata": {},
   "source": [
    "<img src=\"q.png\"></img>"
   ]
  },
  {
   "cell_type": "code",
   "execution_count": null,
   "metadata": {},
   "outputs": [],
   "source": [
    "#Import Library\n",
    "\n",
    "import pandas as pd\n",
    "import shutil\n",
    "import os\n",
    "from datetime import date\n",
    "from itertools import cycle\n",
    "import numpy as np\n",
    "\n",
    "pd.set_option('display.max_columns',50)\n",
    "\n",
    " \n",
    "file_source = r'S:/DataMentah/'\n",
    "file_destination = r'S:/'"
   ]
  },
  {
   "cell_type": "code",
   "execution_count": 1,
   "metadata": {},
   "outputs": [],
   "source": [
    "get_files = os.listdir(file_source)\n",
    "for g in get_files:\n",
    "    if g.startswith(\"Rekap\"):      \n",
    "        Sukuk = pd.read_excel(file_source + g, index_col=None, sheet_name = 'Rekap', nrows= 31, usecols = 'A:F')\n",
    "        Sukuk['Date'] = pd.to_datetime(str(date.today()))\n",
    "        Sukuk['Date'] = pd.to_datetime(Sukuk['Date']).dt.strftime('%Y%d%m')\n",
    "        Sukuk['TODAY FAIR PRICE1'] = Sukuk.apply(lambda x: \"{:,.2f}\".format(x['TODAY FAIR PRICE']), axis=1)\n",
    "        list_drop = ['DATE', 'TODAY FAIR PRICE']\n",
    "        Sukuk.drop(list_drop, axis=1, inplace=True)\n",
    "        Sukuk.dropna(axis=0, how = 'any')\n",
    "        Sukuk.rename(columns = {'Date': 'DATE','TODAY FAIR PRICE1': 'TODAY FAIR PRICE'},inplace=True)\n",
    "        Sukuk = Sukuk[[\"DATE\",\"SERIES\",\"ISIN\",\"NAME\",\"TODAY FAIR PRICE\",\"CURRENCY\"]]\n",
    "        \n",
    "    if g.startswith(\"Kurs\"):\n",
    "        Fwd = pd.read_excel(file_source + g, skiprows = 3,  nrows= 56, usecols = 'P:R')        \n",
    "        Fwd = Fwd[[\"BID\",\"ASK\"]]\n",
    "        Fwd.loc[34,'BID'] = 0 #IDR EOD\n",
    "        Fwd.loc[34,'ASK'] = 0 #IDR EOD\n",
    "        Fwd['DATE'] = pd.to_datetime(str(date.today()))\n",
    "        Fwd['DATE'] = pd.to_datetime(Fwd['DATE']).dt.strftime('%m/%d/%Y')\n",
    "        Fwd['BID'] = Fwd.apply(lambda x: \"{:,.2f}\".format(x['BID']), axis=1)\n",
    "        Fwd['ASK'] = Fwd.apply(lambda x: \"{:,.2f}\".format(x['ASK']), axis=1)        \n",
    "        TenQuote = cycle(['ON','SW','2W','1M','2M','3M','6M','12M'])\n",
    "        Fwd['Tenor Quote'] = [next(TenQuote) for Fwd in range(len(Fwd))]\n",
    "        Tenor = cycle(['Today','1wk','2wk','1 Month','2 Months','3 Months','6 Months','12 Months'])\n",
    "        Fwd['TENOR'] = [next(Tenor) for Fwd in range(len(Fwd))]            \n",
    "        Curs = ['IDR','MYR','EUR','SGD','SAR','AUD','JPY']\n",
    "        Fwd['CURNCY'] = np.repeat(Curs,8)\n",
    "        Fwd['REUTERS QUOTE'] = Fwd['CURNCY'] + Fwd['Tenor Quote'] + '='\n",
    "        Fwd = Fwd[[\"CURNCY\",\"TENOR\",\"REUTERS QUOTE\",\"Tenor Quote\",\"BID\",\"ASK\",\"DATE\"]]\n",
    "# -------------------------------------------------------------------------------------------------------------#\n",
    "        Spot = pd.read_excel(file_source + g, index_col=None, skiprows = 52,  nrows= 5, usecols = 'F:G')\n",
    "        Kurs_cols = ['BID', 'ASK']\n",
    "        Spot.columns = Kurs_cols\n",
    "        Spot_Jpy = pd.read_excel(file_source + g, index_col=None, skiprows = 57,  nrows= 1, usecols = 'F:G')\n",
    "        Spot_Jpy.columns = Kurs_cols\n",
    "        Spot_Aud = pd.read_excel(file_source + g, index_col=None, skiprows = 58,  nrows= 1, usecols = 'F:G')\n",
    "        Spot_Aud.columns = Kurs_cols\n",
    "        Spot = pd.concat([Spot,Spot_Aud,Spot_Jpy],axis=0, ignore_index=True, sort=False)\n",
    "        Spot.rename(index={0: 7,1: 8,2: 9,3: 10,4: 11,5: 12,6: 13},inplace=True)\n",
    "        Spot.loc[0] = Spot.loc[7,:] #IDR EOD\n",
    "        Spot.loc[1] = round((Spot.loc[8,:] / Spot.loc[7,:]),9) #EUR EOD \n",
    "        Spot.loc[2] = round((Spot.loc[7,:] / Spot.loc[9,:]),9) #SAR EOD\n",
    "        Spot.loc[3] = round((Spot.loc[7,:] / Spot.loc[10,:]),9) #MYR EOD\n",
    "        Spot.loc[4] = round((Spot.loc[7,:] / Spot.loc[11,:]),9) #SGD EOD\n",
    "        Spot.loc[5] = round((Spot.loc[12,:] / Spot.loc[7,:]),9) #AUD EOD \n",
    "        Spot.loc[6] = round((Spot.loc[7,:] / Spot.loc[13,:]),9) #JPY EOD\n",
    "        Spot.sort_index(inplace=True)\n",
    "        Spot1 = Spot.loc[[2,3,4,6], :]\n",
    "        Spot1_cols = ['ASK','BID']\n",
    "        Spot1.columns = Spot1_cols\n",
    "        Spot = Spot.drop([2,3,4,6])\n",
    "        Spot = pd.concat([Spot,Spot1],axis=0, ignore_index=False, sort=True)\n",
    "        Spot.sort_index(inplace=True)\n",
    "        Kurs = cycle(['IDR','EUR','SAR','MYR','SGD','AUD','JPY'])\n",
    "        Spot['Currency'] = [next(Kurs) for Spot in range(len(Spot))]\n",
    "        Spot['Date'] = pd.to_datetime(str(date.today()))\n",
    "        Spot['Date'] = pd.to_datetime(Spot['Date']).dt.strftime('%m/%d/%Y')\n",
    "        Rate = ['End of Day','Kurs BI']\n",
    "        Spot['RateType'] = np.repeat(Rate,7)\n",
    "        Spot['Bloomberg code'] = Spot['Currency'] + ' curncy'\n",
    "        Spot['BID'] = Spot.apply(lambda x: \"{:,.9f}\".format(x['BID']), axis=1)\n",
    "        Spot['ASK'] = Spot.apply(lambda x: \"{:,.9f}\".format(x['ASK']), axis=1)\n",
    "        Spot['Bid_str'] = Spot.BID.astype(str)\n",
    "        Spot['Ask_str'] = Spot.ASK.astype(str)\n",
    "        Spot[\"Bid_str\"]=Spot[\"Bid_str\"].str.replace(',','')\n",
    "        Spot[\"Ask_str\"]=Spot[\"Ask_str\"].str.replace(',','')\n",
    "        Spot = Spot[[\"Currency\",\"Bloomberg code\",\"Bid_str\",\"Ask_str\",\"Date\",\"RateType\"]]\n",
    "        Spot_cols = [\" Currency \",\"Bloomberg code\",\"Bid\",\"Ask\",\"Date\",\"RateType\"]\n",
    "        Spot.columns = Spot_cols\n",
    "\n",
    "print(\"Ukuran data Sukuk: %d baris, %d kolom.\" % Sukuk.shape)        \n",
    "print(Sukuk)\n",
    "Sukuk.to_csv(file_destination + 'GlobalBond_GBx.csv', sep=',',index=False)\n",
    "print(' ---- ')\n",
    "print(\"Ukuran data Forward: %d baris, %d kolom.\" % Fwd.shape)        \n",
    "print(Fwd)\n",
    "Fwd.to_csv(file_destination + 'FX FORWARDx.csv', sep=',',index=False)\n",
    "print(' ---- ')\n",
    "print(\"Ukuran data Spot: %d baris, %d kolom.\" % Spot.shape)        \n",
    "print(Spot)\n",
    "Spot.to_csv(file_destination + 'FX SPOTx.csv', sep=',',index=False)\n",
    "\n",
    "print(\"GlobalBond_GBx.csv, File FX SPOTx.csv, FX FORWARDx.csv has been succesfully saved in folder\")"
   ]
  },
  {
   "cell_type": "markdown",
   "metadata": {},
   "source": [
    "## Kirim email pemberitahuan bahwa data telah selesai di simpan"
   ]
  },
  {
   "cell_type": "code",
   "execution_count": 2,
   "metadata": {},
   "outputs": [
    {
     "name": "stdout",
     "output_type": "stream",
     "text": [
      "['data_retail_churning.csv', 'move_copy_quantum.ipynb', 'pro_data_retail_churning.ipynb', 'Pro_Ml_Eod.bat', 'Pro_Ml_Eod.py', 'snd_email.bat', 'snd_email.py']\n"
     ]
    }
   ],
   "source": [
    "arr = os.listdir(\"S:/DataMentah\")\n",
    "\n",
    "import smtplib\n",
    "\n",
    "sender_email = \"email@domain.co.id\"\n",
    "# rec_email = \"sendi@bank.co.id\",\"nidya@bank.co.id\",\"wienuri@bank.co.id\" ,\"lutfi@bank.co.id\"\n",
    "rec_email = \"email@domain.co.id\"\n",
    "passw = \"Password email\"\n",
    "\n",
    "with smtplib.SMTP('smtp.office365.com', 587) as smtp:\n",
    "    smtp.ehlo()\n",
    "    smtp.starttls()\n",
    "    smtp.ehlo()\n",
    "    smtp.login('email@domain.co.id', passw)\n",
    "\n",
    "    subject = 'Quantum Data Placement Report'\n",
    "    body = 'Assalamualaikum wr wb\\n\\nPlease Check,\\nSpot, Forward and Global_Bonds has been succesfully created using\\n ' + str(arr) + ' data' + '\\n' + ' and saved in bmi2(\\\\10.55.108.216)\\n\\nWasalam' + '\\n\\nThis email send by Task Scheduler'\n",
    "    # body = 'Assalamualaikum wr wb\\nPlease Check\\nSpot, Forward and Global_Bonds has been succesfully created using\\n ' + str(arr) + ' data' + '\\n' + ' and saved in ' + file_destination +'\\n'+ '\\nWasalam'\n",
    "    # ps = print('Sukuk')\n",
    "    sk = Sukuk.head()\n",
    "    sp = Spot.head()\n",
    "    fw = Fwd.head()\n",
    "    msg = f'Subject: {subject},\\n\\n{body},\\n\\nGlobalBond_GBx :\\n\\n{sk},\\n\\nFX SPOTx :\\n\\n{sp},\\n\\nFX FORWARDx :\\n\\n{fw}'\n",
    "    smtp.sendmail(sender_email, rec_email, msg)\n",
    "    print(\"Email has been sent to\", rec_email)\n"
   ]
  },
  {
   "cell_type": "code",
   "execution_count": 3,
   "metadata": {},
   "outputs": [],
   "source": []
  },
  {
   "cell_type": "code",
   "execution_count": null,
   "metadata": {},
   "outputs": [],
   "source": []
  },
  {
   "cell_type": "code",
   "execution_count": null,
   "metadata": {},
   "outputs": [],
   "source": []
  },
  {
   "cell_type": "code",
   "execution_count": null,
   "metadata": {},
   "outputs": [],
   "source": []
  },
  {
   "cell_type": "code",
   "execution_count": 7,
   "metadata": {},
   "outputs": [],
   "source": []
  },
  {
   "cell_type": "code",
   "execution_count": null,
   "metadata": {},
   "outputs": [],
   "source": []
  }
 ],
 "metadata": {
  "kernelspec": {
   "display_name": "Python 3",
   "language": "python",
   "name": "python3"
  },
  "language_info": {
   "codemirror_mode": {
    "name": "ipython",
    "version": 3
   },
   "file_extension": ".py",
   "mimetype": "text/x-python",
   "name": "python",
   "nbconvert_exporter": "python",
   "pygments_lexer": "ipython3",
   "version": "3.8.2"
  }
 },
 "nbformat": 4,
 "nbformat_minor": 4
}
